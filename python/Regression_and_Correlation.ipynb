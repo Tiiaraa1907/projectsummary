{
  "nbformat": 4,
  "nbformat_minor": 0,
  "metadata": {
    "colab": {
      "provenance": []
    },
    "kernelspec": {
      "name": "python3",
      "display_name": "Python 3"
    }
  },
  "cells": [
    {
      "cell_type": "code",
      "metadata": {
        "id": "7sawLpcxayQS",
        "outputId": "757fd098-9e9d-44ab-db66-72acb82adf6a",
        "colab": {
          "base_uri": "https://localhost:8080/",
          "height": 317
        }
      },
      "source": [
        "import numpy as np # untuk kalkulasi angka\n",
        "from scipy.optimize import curve_fit # untuk regresi linear\n",
        "from scipy.stats import pearsonr # untuk koefisien korelasi\n",
        "import matplotlib.pyplot as plt # gambar plot grafik\n",
        "\n",
        "# mau hitung regresi dan korelasi dari jumlah bahan bakar dan jarak tempuh\n",
        "X = [1, 2, 3, 4, 5, 6, 7] # jumlah bensin\n",
        "Y = [10.2, 21.9, 34.1, 45.4, 54.7, 64.9, 76.5] # jarak tempuh\n",
        "\n",
        "plt.plot(X, Y, 'o', label = \"Raw Data\")\n",
        "\n",
        "def f(x,m,c):\n",
        "    return m*x +  c\n",
        "\n",
        "popt, pcov = curve_fit(f, X, Y)\n",
        "fvec = np.vectorize(f)\n",
        "\n",
        "plt.plot(X, fvec(X, *popt), 'r--', label = \"Line of Best Fit\")\n",
        "print(popt)\n",
        "plt.xlabel(\"Number of Gas (in Litres)\")\n",
        "plt.ylabel(\"Distance Traveled\")\n",
        "plt.legend()\n",
        "\n",
        "# persamaan garis regresi\n",
        "# Y = 10.91 X + 0.31"
      ],
      "execution_count": null,
      "outputs": [
        {
          "output_type": "stream",
          "text": [
            "[10.91071429  0.31428571]\n"
          ],
          "name": "stdout"
        },
        {
          "output_type": "execute_result",
          "data": {
            "text/plain": [
              "<matplotlib.legend.Legend at 0x7fae586d8a90>"
            ]
          },
          "metadata": {
            "tags": []
          },
          "execution_count": 8
        },
        {
          "output_type": "display_data",
          "data": {
            "image/png": "[encoded data removed]",
            "text/plain": [
              "<Figure size 432x288 with 1 Axes>"
            ]
          },
          "metadata": {
            "tags": [],
            "needs_background": "light"
          }
        }
      ]
    },
    {
      "cell_type": "code",
      "metadata": {
        "id": "TIZt4gQFfoxd",
        "outputId": "8faa01b6-385e-4151-e625-f7cc4fca46a3",
        "colab": {
          "base_uri": "https://localhost:8080/"
        }
      },
      "source": [
        "\n",
        "print(pearsonr(X,Y)[0])"
      ],
      "execution_count": null,
      "outputs": [
        {
          "output_type": "stream",
          "text": [
            "0.9992307737477286\n"
          ],
          "name": "stdout"
        }
      ]
    }
  ]
}